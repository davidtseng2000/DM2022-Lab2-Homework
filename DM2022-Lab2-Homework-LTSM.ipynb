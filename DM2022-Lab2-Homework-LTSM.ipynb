{
 "cells": [
  {
   "cell_type": "markdown",
   "metadata": {
    "id": "uuutyCx4YTpX"
   },
   "source": [
    "# Data Mining HW2 (Kaggle)"
   ]
  },
  {
   "cell_type": "markdown",
   "metadata": {
    "id": "op_X7pR-YTpX"
   },
   "source": [
    "---\n",
    "## 1. Data Preprocessing"
   ]
  },
  {
   "cell_type": "markdown",
   "metadata": {
    "id": "ID-8I1ELYTpX"
   },
   "source": [
    "https://www.kaggle.com/competitions/dm2022-isa5810-lab2-homework/overview"
   ]
  },
  {
   "cell_type": "code",
   "execution_count": 32,
   "metadata": {
    "id": "anfjcPSSYTpX",
    "scrolled": true
   },
   "outputs": [],
   "source": [
    "import pandas as pd\n",
    "import json\n",
    "\n",
    "# # file = open(\"tweets_DM.json\", \"r\", encoding=\"utf-8\")\n",
    "# # data = []\n",
    "\n",
    "# # for line in file.readlines():\n",
    "# #     dic = json.loads(line)\n",
    "# #     data.append(dic)\n",
    "\n",
    "# # data = pd.DataFrame(data)\n",
    "# # print(data.shape)\n",
    "\n",
    "# ## save to pickle file\n",
    "# data.to_pickle(\"data.pkl\")\n",
    "\n",
    "\n",
    "data = pd.read_pickle(\"data.pkl\")\n",
    "identification = pd.read_csv(\"data_identification.csv\")\n",
    "\n",
    "# Extract the \"tweet_id\" of each data and add a new column to record it.\n",
    "data[\"tweet_id\"] = data[\"_source\"].apply(lambda x : x[\"tweet\"][\"tweet_id\"])\n",
    "# Add a column to record the data type (train or test) according to \"identification\"\n",
    "data = data.merge(identification, on = \"tweet_id\", how = \"right\")\n",
    "\n"
   ]
  },
  {
   "cell_type": "code",
   "execution_count": 33,
   "metadata": {},
   "outputs": [
    {
     "name": "stdout",
     "output_type": "stream",
     "text": [
      "1867535\n",
      "1867535\n",
      "1867535\n"
     ]
    }
   ],
   "source": [
    "# Obseving that the value in data[_index] are all the same, I decide to delete this column.\n",
    "from collections import Counter\n",
    "count_data = Counter(data[\"_index\"])\n",
    "print(len(data))\n",
    "print(count_data[\"hashtag_tweets\"])\n",
    "\n",
    "data.drop([\"_index\"], axis = 1, inplace=True)\n",
    "\n",
    "# I think the crawldate might not affect the emotion\n",
    "data.drop([\"_crawldate\"], axis = 1, inplace=True)\n",
    "\n",
    "# Similarly for column \"_type\"\n",
    "count_data = Counter(data[\"_type\"])\n",
    "print(count_data[\"tweets\"])\n",
    "\n",
    "data.drop([\"_type\"], axis = 1, inplace=True)\n"
   ]
  },
  {
   "cell_type": "code",
   "execution_count": 34,
   "metadata": {
    "id": "yVc2T5MIYTpX"
   },
   "outputs": [],
   "source": [
    "# Then I extract the \"hashtags\" and \"text\" content in \"_source\" to form two new columns in data.\n",
    "# After doing this, we can eliminate the \"source\" column.\n",
    "\n",
    "data[\"hashtags\"] = data[\"_source\"].apply(lambda x : x[\"tweet\"][\"hashtags\"])\n",
    "data[\"text\"] = data[\"_source\"].apply(lambda x : x[\"tweet\"][\"text\"])\n",
    "\n",
    "data.drop([\"_source\"], axis = 1, inplace=True)"
   ]
  },
  {
   "cell_type": "code",
   "execution_count": 35,
   "metadata": {},
   "outputs": [],
   "source": [
    "# We then add the \"emotion\" tags to a new column named \"emotion\" according to \"emotion.csv\".\n",
    "emotion = pd.read_csv(\"emotion.csv\")\n",
    "data = data.merge(emotion, on = \"tweet_id\", how = \"outer\")"
   ]
  },
  {
   "cell_type": "code",
   "execution_count": 36,
   "metadata": {},
   "outputs": [
    {
     "name": "stderr",
     "output_type": "stream",
     "text": [
      "C:\\Users\\User\\AppData\\Local\\Temp\\ipykernel_16644\\2630931373.py:2: FutureWarning: The series.append method is deprecated and will be removed from pandas in a future version. Use pandas.concat instead.\n",
      "  data.text.append(data.hashtags)\n"
     ]
    }
   ],
   "source": [
    "# Combine the hashtags to the text, then we only need to focus on the \"text\" data.\n",
    "data.text.append(data.hashtags)\n",
    "data.drop([\"hashtags\"],axis=1, inplace=True)"
   ]
  },
  {
   "cell_type": "code",
   "execution_count": 37,
   "metadata": {},
   "outputs": [
    {
     "name": "stdout",
     "output_type": "stream",
     "text": [
      "@habbo i've seen two separate colours of the elegant furni on your homepage? <lh>\n",
      "habbo ive seen two separate colours of the elegant furni on your homepage \n"
     ]
    }
   ],
   "source": [
    "import re\n",
    "import string\n",
    "\n",
    "# # change all the big latter to small latter\n",
    "data.text = data.text.str.lower()\n",
    "print(data.text[0])\n",
    "\n",
    "# # delete the hashtag, mention, punctuation and numbers\n",
    "data.text = data.text.apply(lambda x: re.sub(r'@', '', x))\n",
    "data.text = data.text.apply(lambda x: re.sub(r'#', '', x))\n",
    "data.text = data.text.apply(lambda x: x.translate(str.maketrans('', '', string.punctuation)))\n",
    "data.text = data.text.apply(lambda x: re.sub(r'\\d+', '', x))\n",
    "data.text = data.text.apply(lambda x: re.sub(r'lh', '', x))\n",
    "print(data.text[0])\n"
   ]
  },
  {
   "cell_type": "code",
   "execution_count": 1,
   "metadata": {
    "colab": {
     "base_uri": "https://localhost:8080/",
     "height": 206
    },
    "id": "Kw8bGMv7YTpX",
    "outputId": "9f6f7052-302e-4794-ef69-b84450b61b36"
   },
   "outputs": [],
   "source": [
    "import pandas as pd\n",
    "\n",
    "# ### training data\n",
    "# train_df = data[data[\"emotion\"].notnull()]\n",
    "# train_df.head()\n",
    "# train_df.to_pickle(\"train_df.pkl\")\n",
    "# print(len(train_df))\n",
    "\n",
    "# ### testing data\n",
    "# Submission = data[data[\"emotion\"].isna()]\n",
    "# Submission.head()\n",
    "# Submission.to_pickle(\"Submission.pkl\")\n",
    "# print(len(Submission))\n",
    "\n",
    "train_df = pd.read_pickle(\"train_df.pkl\")\n",
    "Submission = pd.read_pickle(\"Submission.pkl\")\n",
    "\n"
   ]
  },
  {
   "cell_type": "code",
   "execution_count": 2,
   "metadata": {
    "id": "HBHwcL8sYTpX"
   },
   "outputs": [],
   "source": [
    "# shuffle dataset\n",
    "train_df = train_df.sample(frac=1)\n",
    "Submission = Submission.sample(frac=1)"
   ]
  },
  {
   "cell_type": "code",
   "execution_count": 3,
   "metadata": {
    "colab": {
     "base_uri": "https://localhost:8080/"
    },
    "id": "9w_cDUwCYTpX",
    "outputId": "3582ac44-1f5f-4cb2-b833-d477f152461a",
    "scrolled": true
   },
   "outputs": [
    {
     "name": "stdout",
     "output_type": "stream",
     "text": [
      "Shape of Training df:  (1455563, 5)\n",
      "Shape of Testing df:  (411972, 5)\n"
     ]
    }
   ],
   "source": [
    "print(\"Shape of Training df: \", train_df.shape)\n",
    "print(\"Shape of Testing df: \", Submission.shape)"
   ]
  },
  {
   "cell_type": "code",
   "execution_count": 4,
   "metadata": {},
   "outputs": [],
   "source": [
    "# classes = set(train_df[\"emotion\"])\n",
    "\n",
    "# num = []\n",
    "# for i, emo in zip(range(8), classes):\n",
    "#     num.append(len(train_df[train_df[\"emotion\"] == emo]))\n",
    "\n",
    "# print(num)\n",
    "# print(sum(num) == len(train_df))"
   ]
  },
  {
   "cell_type": "markdown",
   "metadata": {},
   "source": [
    "# Try to apply LSTM method"
   ]
  },
  {
   "cell_type": "code",
   "execution_count": 3,
   "metadata": {},
   "outputs": [],
   "source": [
    "# LSTM\n",
    "import nltk\n",
    "import string\n",
    "\n",
    "#train_df['text_tokenized'] = train_df['text'].apply(lambda x: nltk.word_tokenize(x))\n",
    "#Submission['text_tokenized'] = Submission['text'].apply(lambda x: nltk.word_tokenize(x))\n"
   ]
  },
  {
   "cell_type": "code",
   "execution_count": 4,
   "metadata": {},
   "outputs": [],
   "source": [
    "from tensorflow.keras.preprocessing.text import Tokenizer\n",
    "\n",
    "NUM_WORDS = 10000\n",
    "\n",
    "tokenizer = Tokenizer(num_words=NUM_WORDS, oov_token='<UNK>')\n",
    "tokenizer.fit_on_texts(train_df.text)\n",
    "\n"
   ]
  },
  {
   "cell_type": "code",
   "execution_count": 8,
   "metadata": {},
   "outputs": [],
   "source": [
    "# Obesrving that most article are with less than 40 words.\n",
    "\n",
    "# import matplotlib.pyplot as plt\n",
    "# lengths = [len(t.split(' ')) for t in train_df[\"text\"]]\n",
    "\n",
    "# print(max(lengths))\n",
    "# plt.hist(lengths, bins=len(set(lengths)))\n",
    "# plt.show()"
   ]
  },
  {
   "cell_type": "code",
   "execution_count": 5,
   "metadata": {},
   "outputs": [],
   "source": [
    "# padding\n",
    "from tensorflow.keras.preprocessing.sequence import pad_sequences\n",
    "\n",
    "def get_sequences(tokenizer, tweets):\n",
    "    sequences = tokenizer.texts_to_sequences(tweets)\n",
    "    padded_sequences = pad_sequences(sequences, truncating='post', maxlen=50, padding='post')\n",
    "    return padded_sequences\n"
   ]
  },
  {
   "cell_type": "code",
   "execution_count": 8,
   "metadata": {},
   "outputs": [
    {
     "name": "stdout",
     "output_type": "stream",
     "text": [
      "{'sadness', 'trust', 'joy', 'fear', 'surprise', 'disgust', 'anger', 'anticipation'}\n"
     ]
    }
   ],
   "source": [
    "classes = set(train_df[\"emotion\"])\n",
    "print(classes)"
   ]
  },
  {
   "cell_type": "markdown",
   "metadata": {},
   "source": [
    "# LSTM with KFold"
   ]
  },
  {
   "cell_type": "code",
   "execution_count": 12,
   "metadata": {},
   "outputs": [
    {
     "name": "stdout",
     "output_type": "stream",
     "text": [
      "Model: \"sequential\"\n",
      "_________________________________________________________________\n",
      " Layer (type)                Output Shape              Param #   \n",
      "=================================================================\n",
      " embedding (Embedding)       (None, 50, 30)            15000     \n",
      "                                                                 \n",
      " bidirectional (Bidirectiona  (None, 30)               5520      \n",
      " l)                                                              \n",
      "                                                                 \n",
      " dense (Dense)               (None, 8)                 248       \n",
      "                                                                 \n",
      "=================================================================\n",
      "Total params: 20,768\n",
      "Trainable params: 20,768\n",
      "Non-trainable params: 0\n",
      "_________________________________________________________________\n"
     ]
    }
   ],
   "source": [
    "import tensorflow as tf\n",
    "# from tensorflow import keras\n",
    "from keras.models import Sequential\n",
    "from keras.layers import Dense\n",
    "from keras.layers import Embedding\n",
    "from keras.layers import LSTM\n",
    "from keras.layers import Bidirectional\n",
    "from keras.layers import Flatten\n",
    "from keras.layers import BatchNormalization\n",
    "from keras.layers import Dropout\n",
    "from keras import regularizers\n",
    "\n",
    "\n",
    "LSTM_model = Sequential()\n",
    "LSTM_model.add(Embedding(NUM_WORDS, 30, input_length=50))\n",
    "LSTM_model.add(Bidirectional(LSTM(15)))\n",
    "LSTM_model.add(Dense(8, activation='softmax'))\n",
    "\n",
    "LSTM_model.compile(\n",
    "    loss='sparse_categorical_crossentropy',\n",
    "    optimizer='adam',\n",
    "    metrics=['accuracy']\n",
    ")\n",
    "\n",
    "LSTM_model.summary()"
   ]
  },
  {
   "cell_type": "code",
   "execution_count": 13,
   "metadata": {},
   "outputs": [
    {
     "name": "stdout",
     "output_type": "stream",
     "text": [
      "{'sadness': 0, 'fear': 1, 'anticipation': 2, 'surprise': 3, 'joy': 4, 'disgust': 5, 'anger': 6, 'trust': 7}\n",
      "{0: 'sadness', 1: 'fear', 2: 'anticipation', 3: 'surprise', 4: 'joy', 5: 'disgust', 6: 'anger', 7: 'trust'}\n"
     ]
    },
    {
     "ename": "NameError",
     "evalue": "name 'tokenizer' is not defined",
     "output_type": "error",
     "traceback": [
      "\u001b[1;31m---------------------------------------------------------------------------\u001b[0m",
      "\u001b[1;31mNameError\u001b[0m                                 Traceback (most recent call last)",
      "\u001b[1;32mc:\\Users\\User\\Desktop\\DM2022 ISA5810 Lab2 Homework (Kaggle)\\DM2022-Lab2-Homework (Kaggle) - LTSM.ipynb Cell 25\u001b[0m in \u001b[0;36m<cell line: 15>\u001b[1;34m()\u001b[0m\n\u001b[0;32m     <a href='vscode-notebook-cell:/c%3A/Users/User/Desktop/DM2022%20ISA5810%20Lab2%20Homework%20%28Kaggle%29/DM2022-Lab2-Homework%20%28Kaggle%29%20-%20LTSM.ipynb#X33sZmlsZQ%3D%3D?line=11'>12</a>\u001b[0m names_to_ids \u001b[39m=\u001b[39m \u001b[39mlambda\u001b[39;00m labels: pd\u001b[39m.\u001b[39mSeries([classes_to_index\u001b[39m.\u001b[39mget(x) \u001b[39mfor\u001b[39;00m x \u001b[39min\u001b[39;00m labels])\n\u001b[0;32m     <a href='vscode-notebook-cell:/c%3A/Users/User/Desktop/DM2022%20ISA5810%20Lab2%20Homework%20%28Kaggle%29/DM2022-Lab2-Homework%20%28Kaggle%29%20-%20LTSM.ipynb#X33sZmlsZQ%3D%3D?line=12'>13</a>\u001b[0m ids_to_names \u001b[39m=\u001b[39m \u001b[39mlambda\u001b[39;00m labels: pd\u001b[39m.\u001b[39mSeries([index_to_classes\u001b[39m.\u001b[39mget(x) \u001b[39mfor\u001b[39;00m x \u001b[39min\u001b[39;00m labels])\n\u001b[1;32m---> <a href='vscode-notebook-cell:/c%3A/Users/User/Desktop/DM2022%20ISA5810%20Lab2%20Homework%20%28Kaggle%29/DM2022-Lab2-Homework%20%28Kaggle%29%20-%20LTSM.ipynb#X33sZmlsZQ%3D%3D?line=14'>15</a>\u001b[0m X \u001b[39m=\u001b[39m get_sequences(tokenizer, train_df[\u001b[39m'\u001b[39m\u001b[39mtext\u001b[39m\u001b[39m'\u001b[39m])\n\u001b[0;32m     <a href='vscode-notebook-cell:/c%3A/Users/User/Desktop/DM2022%20ISA5810%20Lab2%20Homework%20%28Kaggle%29/DM2022-Lab2-Homework%20%28Kaggle%29%20-%20LTSM.ipynb#X33sZmlsZQ%3D%3D?line=15'>16</a>\u001b[0m y \u001b[39m=\u001b[39m names_to_ids(train_df[\u001b[39m\"\u001b[39m\u001b[39memotion\u001b[39m\u001b[39m\"\u001b[39m])\n\u001b[0;32m     <a href='vscode-notebook-cell:/c%3A/Users/User/Desktop/DM2022%20ISA5810%20Lab2%20Homework%20%28Kaggle%29/DM2022-Lab2-Homework%20%28Kaggle%29%20-%20LTSM.ipynb#X33sZmlsZQ%3D%3D?line=17'>18</a>\u001b[0m KFOLD \u001b[39m=\u001b[39m \u001b[39m2\u001b[39m\n",
      "\u001b[1;31mNameError\u001b[0m: name 'tokenizer' is not defined"
     ]
    }
   ],
   "source": [
    "from sklearn.model_selection import StratifiedKFold\n",
    "from sklearn.model_selection import RepeatedStratifiedKFold\n",
    "\n",
    "classes = set(train_df[\"emotion\"])\n",
    "\n",
    "classes_to_index = dict((c, i) for i, c in enumerate(classes))\n",
    "index_to_classes = dict((i, c) for c, i in classes_to_index.items())\n",
    "\n",
    "print(classes_to_index)\n",
    "print(index_to_classes)\n",
    "\n",
    "names_to_ids = lambda labels: pd.Series([classes_to_index.get(x) for x in labels])\n",
    "ids_to_names = lambda labels: pd.Series([index_to_classes.get(x) for x in labels])\n",
    "\n",
    "X = get_sequences(tokenizer, train_df['text'])\n",
    "y = names_to_ids(train_df[\"emotion\"])\n",
    "\n",
    "KFOLD = 2\n",
    "\n",
    "skf = RepeatedStratifiedKFold(n_splits=KFOLD, n_repeats=5)\n",
    "skf.get_n_splits(X, y)\n",
    "print(skf)\n",
    "\n",
    "i = 1\n",
    "for train_index, test_index in skf.split(X, y):\n",
    "    print(f\"This is the {i} round.\")\n",
    "    print(\"TRAIN:\", train_index, \"TEST:\", test_index)\n",
    "    X_train, X_test = X[train_index], X[test_index]\n",
    "    y_train, y_test = y[train_index], y[test_index]\n",
    "\n",
    "    h = LSTM_model.fit(\n",
    "    X_train, y_train,\n",
    "    validation_data=(X_test, y_test),\n",
    "    epochs=20,\n",
    "    batch_size=10000,\n",
    "    #class_weight=CLASS_WEIGHT,\n",
    "    callbacks=[\n",
    "        tf.keras.callbacks.EarlyStopping(monitor='val_accuracy', patience=2)\n",
    "    ]\n",
    "    )\n",
    "    i = i + 1\n",
    "\n",
    "\n",
    "\n"
   ]
  },
  {
   "cell_type": "code",
   "execution_count": null,
   "metadata": {},
   "outputs": [
    {
     "name": "stdout",
     "output_type": "stream",
     "text": [
      "12875/12875 [==============================] - 197s 15ms/step\n"
     ]
    }
   ],
   "source": [
    "my_LSTM_Submission2 = pd.DataFrame()\n",
    "\n",
    "import numpy as np\n",
    "\n",
    "X_LSTM_test = get_sequences(tokenizer, Submission['text'])\n",
    "y_LSTM_pred = LSTM_model.predict(X_LSTM_test)\n",
    "\n",
    "# ids_to_names = lambda labels: pd.Series([index_to_classes.get(x) for x in labels])\n",
    "\n",
    "my_LSTM_Submission2[\"id\"] = Submission[\"tweet_id\"]\n",
    "my_LSTM_Submission2 = my_LSTM_Submission2.reset_index(drop =True)\n",
    "\n",
    "for i in range(8):\n",
    "    my_LSTM_Submission2[f\"{index_to_classes.get(i)}\"] = y_LSTM_pred[:,i]\n",
    "my_LSTM_Submission2.to_csv(\"my_LSTM_Submission2.csv\", index=False)  "
   ]
  },
  {
   "cell_type": "markdown",
   "metadata": {},
   "source": [
    "# LSTM without Kfold (add ensemble)"
   ]
  },
  {
   "cell_type": "code",
   "execution_count": 6,
   "metadata": {},
   "outputs": [
    {
     "name": "stdout",
     "output_type": "stream",
     "text": [
      "X_train.shape:  (1310006, 50)\n",
      "y_train.shape:  (1310006,)\n",
      "X_test.shape:  (145557, 50)\n",
      "y_test.shape:  (145557,)\n"
     ]
    }
   ],
   "source": [
    "from sklearn.model_selection import train_test_split\n",
    "from sklearn import preprocessing\n",
    "\n",
    "X = get_sequences(tokenizer, train_df['text'])\n",
    "y = train_df['emotion']\n",
    "\n",
    "X_train, X_test, y_train, y_test = train_test_split(X, y, test_size=0.1, random_state=1)\n",
    "\n",
    "\n",
    "## check dimension is a good habbit \n",
    "print('X_train.shape: ', X_train.shape)\n",
    "print('y_train.shape: ', y_train.shape)\n",
    "print('X_test.shape: ', X_test.shape)\n",
    "print('y_test.shape: ', y_test.shape)"
   ]
  },
  {
   "cell_type": "code",
   "execution_count": 9,
   "metadata": {},
   "outputs": [
    {
     "name": "stdout",
     "output_type": "stream",
     "text": [
      "{'sadness': 0, 'trust': 1, 'joy': 2, 'fear': 3, 'surprise': 4, 'disgust': 5, 'anger': 6, 'anticipation': 7}\n",
      "{0: 'sadness', 1: 'trust', 2: 'joy', 3: 'fear', 4: 'surprise', 5: 'disgust', 6: 'anger', 7: 'anticipation'}\n",
      "0    2\n",
      "1    7\n",
      "2    1\n",
      "3    0\n",
      "4    5\n",
      "dtype: int64\n",
      "0    1\n",
      "1    5\n",
      "2    3\n",
      "3    2\n",
      "4    0\n",
      "dtype: int64\n",
      "(1310006,)\n",
      "(145557,)\n"
     ]
    }
   ],
   "source": [
    "# import pandas as np\n",
    "\n",
    "classes_to_index = dict((c, i) for i, c in enumerate(classes))\n",
    "index_to_classes = dict((i, c) for c, i in classes_to_index.items())\n",
    "\n",
    "print(classes_to_index)\n",
    "print(index_to_classes)\n",
    "\n",
    "names_to_ids = lambda labels: pd.Series([classes_to_index.get(x) for x in labels])\n",
    "ids_to_names = lambda labels: pd.Series([index_to_classes.get(x) for x in labels])\n",
    "y_train_lstm = names_to_ids(y_train)\n",
    "y_test_lstm = names_to_ids(y_test)\n",
    "\n",
    "print(y_train_lstm[0:5])\n",
    "print(y_test_lstm[0:5])\n",
    "print(y_train_lstm.shape)\n",
    "print(y_test_lstm.shape)"
   ]
  },
  {
   "cell_type": "code",
   "execution_count": 10,
   "metadata": {},
   "outputs": [
    {
     "name": "stdout",
     "output_type": "stream",
     "text": [
      "WARNING:tensorflow:Layer lstm will not use cuDNN kernels since it doesn't meet the criteria. It will use a generic GPU kernel as fallback when running on GPU.\n",
      "Model: \"sequential\"\n",
      "_________________________________________________________________\n",
      " Layer (type)                Output Shape              Param #   \n",
      "=================================================================\n",
      " embedding (Embedding)       (None, 50, 32)            320000    \n",
      "                                                                 \n",
      " spatial_dropout1d (SpatialD  (None, 50, 32)           0         \n",
      " ropout1D)                                                       \n",
      "                                                                 \n",
      " lstm (LSTM)                 (None, 16)                3136      \n",
      "                                                                 \n",
      " dense (Dense)               (None, 8)                 136       \n",
      "                                                                 \n",
      "=================================================================\n",
      "Total params: 323,272\n",
      "Trainable params: 323,272\n",
      "Non-trainable params: 0\n",
      "_________________________________________________________________\n"
     ]
    }
   ],
   "source": [
    "import tensorflow as tf\n",
    "# from tensorflow import keras\n",
    "from keras.models import Sequential\n",
    "from keras.layers import Dense\n",
    "from keras.layers import Embedding\n",
    "from keras.layers import LSTM\n",
    "from keras.layers import Bidirectional\n",
    "from keras.layers import Flatten\n",
    "from keras.layers import BatchNormalization\n",
    "from keras.layers import Dropout\n",
    "from keras import regularizers\n",
    "from keras.layers import SpatialDropout1D\n",
    "\n",
    "\n",
    "LSTM_model = Sequential()\n",
    "LSTM_model.add(Embedding(NUM_WORDS, 32, input_length=X_train.shape[1]))\n",
    "LSTM_model.add(SpatialDropout1D(0.2))\n",
    "LSTM_model.add((LSTM(16,dropout=0.2, recurrent_dropout=0.2)))\n",
    "LSTM_model.add(Dense(8, activation='softmax'))\n",
    "\n",
    "LSTM_model.compile(\n",
    "    loss='sparse_categorical_crossentropy',\n",
    "    optimizer='adam',\n",
    "    metrics=['accuracy']\n",
    ")\n",
    "\n",
    "LSTM_model.summary()"
   ]
  },
  {
   "cell_type": "code",
   "execution_count": null,
   "metadata": {},
   "outputs": [],
   "source": [
    "# import numpy as np\n",
    "# import math\n",
    "\n",
    "# classes_cnt = [np.where(y_train_lstm == c)[0].shape[0] for c in range(len(classes))]\n",
    "# max_class_size = np.max(classes_cnt)\n",
    "# CLASS_WEIGHT = [max_class_size/size for size in classes_cnt]\n",
    "# CLASS_WEIGHT = [math.sqrt(CLASS_WEIGHT[i]) for i in range(len(CLASS_WEIGHT))]\n",
    "# CLASS_WEIGHT = dict(zip(set(y_train_lstm), CLASS_WEIGHT))"
   ]
  },
  {
   "cell_type": "code",
   "execution_count": 16,
   "metadata": {},
   "outputs": [
    {
     "name": "stdout",
     "output_type": "stream",
     "text": [
      "Epoch 1/5\n",
      "132/132 [==============================] - 124s 939ms/step - loss: 1.2572 - accuracy: 0.5444 - val_loss: 1.2754 - val_accuracy: 0.5379\n",
      "Epoch 2/5\n",
      " 49/132 [==========>...................] - ETA: 1:10 - loss: 1.2585 - accuracy: 0.5432"
     ]
    },
    {
     "ename": "KeyboardInterrupt",
     "evalue": "",
     "output_type": "error",
     "traceback": [
      "\u001b[1;31m---------------------------------------------------------------------------\u001b[0m",
      "\u001b[1;31mKeyboardInterrupt\u001b[0m                         Traceback (most recent call last)",
      "\u001b[1;32mc:\\Users\\User\\Desktop\\DM2022 ISA5810 Lab2 Homework (Kaggle)\\DM2022-Lab2-Homework (Kaggle) - LTSM.ipynb Cell 32\u001b[0m in \u001b[0;36m<cell line: 3>\u001b[1;34m()\u001b[0m\n\u001b[0;32m      <a href='vscode-notebook-cell:/c%3A/Users/User/Desktop/DM2022%20ISA5810%20Lab2%20Homework%20%28Kaggle%29/DM2022-Lab2-Homework%20%28Kaggle%29%20-%20LTSM.ipynb#X43sZmlsZQ%3D%3D?line=0'>1</a>\u001b[0m \u001b[39m# for i in range(5):\u001b[39;00m\n\u001b[1;32m----> <a href='vscode-notebook-cell:/c%3A/Users/User/Desktop/DM2022%20ISA5810%20Lab2%20Homework%20%28Kaggle%29/DM2022-Lab2-Homework%20%28Kaggle%29%20-%20LTSM.ipynb#X43sZmlsZQ%3D%3D?line=2'>3</a>\u001b[0m h \u001b[39m=\u001b[39m LSTM_model\u001b[39m.\u001b[39;49mfit(\n\u001b[0;32m      <a href='vscode-notebook-cell:/c%3A/Users/User/Desktop/DM2022%20ISA5810%20Lab2%20Homework%20%28Kaggle%29/DM2022-Lab2-Homework%20%28Kaggle%29%20-%20LTSM.ipynb#X43sZmlsZQ%3D%3D?line=3'>4</a>\u001b[0m     X_train, y_train_lstm,\n\u001b[0;32m      <a href='vscode-notebook-cell:/c%3A/Users/User/Desktop/DM2022%20ISA5810%20Lab2%20Homework%20%28Kaggle%29/DM2022-Lab2-Homework%20%28Kaggle%29%20-%20LTSM.ipynb#X43sZmlsZQ%3D%3D?line=4'>5</a>\u001b[0m     validation_data\u001b[39m=\u001b[39;49m(X_test, y_test_lstm),\n\u001b[0;32m      <a href='vscode-notebook-cell:/c%3A/Users/User/Desktop/DM2022%20ISA5810%20Lab2%20Homework%20%28Kaggle%29/DM2022-Lab2-Homework%20%28Kaggle%29%20-%20LTSM.ipynb#X43sZmlsZQ%3D%3D?line=5'>6</a>\u001b[0m     epochs\u001b[39m=\u001b[39;49m\u001b[39m5\u001b[39;49m,\n\u001b[0;32m      <a href='vscode-notebook-cell:/c%3A/Users/User/Desktop/DM2022%20ISA5810%20Lab2%20Homework%20%28Kaggle%29/DM2022-Lab2-Homework%20%28Kaggle%29%20-%20LTSM.ipynb#X43sZmlsZQ%3D%3D?line=6'>7</a>\u001b[0m     batch_size\u001b[39m=\u001b[39;49m\u001b[39m10000\u001b[39;49m,\n\u001b[0;32m      <a href='vscode-notebook-cell:/c%3A/Users/User/Desktop/DM2022%20ISA5810%20Lab2%20Homework%20%28Kaggle%29/DM2022-Lab2-Homework%20%28Kaggle%29%20-%20LTSM.ipynb#X43sZmlsZQ%3D%3D?line=7'>8</a>\u001b[0m     \u001b[39m# class_weight=CLASS_WEIGHT,\u001b[39;49;00m\n\u001b[0;32m      <a href='vscode-notebook-cell:/c%3A/Users/User/Desktop/DM2022%20ISA5810%20Lab2%20Homework%20%28Kaggle%29/DM2022-Lab2-Homework%20%28Kaggle%29%20-%20LTSM.ipynb#X43sZmlsZQ%3D%3D?line=8'>9</a>\u001b[0m     callbacks\u001b[39m=\u001b[39;49m[\n\u001b[0;32m     <a href='vscode-notebook-cell:/c%3A/Users/User/Desktop/DM2022%20ISA5810%20Lab2%20Homework%20%28Kaggle%29/DM2022-Lab2-Homework%20%28Kaggle%29%20-%20LTSM.ipynb#X43sZmlsZQ%3D%3D?line=9'>10</a>\u001b[0m         tf\u001b[39m.\u001b[39;49mkeras\u001b[39m.\u001b[39;49mcallbacks\u001b[39m.\u001b[39;49mEarlyStopping(\n\u001b[0;32m     <a href='vscode-notebook-cell:/c%3A/Users/User/Desktop/DM2022%20ISA5810%20Lab2%20Homework%20%28Kaggle%29/DM2022-Lab2-Homework%20%28Kaggle%29%20-%20LTSM.ipynb#X43sZmlsZQ%3D%3D?line=10'>11</a>\u001b[0m             monitor\u001b[39m=\u001b[39;49m\u001b[39m'\u001b[39;49m\u001b[39mval_accuracy\u001b[39;49m\u001b[39m'\u001b[39;49m, patience\u001b[39m=\u001b[39;49m\u001b[39m2\u001b[39;49m)\n\u001b[0;32m     <a href='vscode-notebook-cell:/c%3A/Users/User/Desktop/DM2022%20ISA5810%20Lab2%20Homework%20%28Kaggle%29/DM2022-Lab2-Homework%20%28Kaggle%29%20-%20LTSM.ipynb#X43sZmlsZQ%3D%3D?line=11'>12</a>\u001b[0m     ]\n\u001b[0;32m     <a href='vscode-notebook-cell:/c%3A/Users/User/Desktop/DM2022%20ISA5810%20Lab2%20Homework%20%28Kaggle%29/DM2022-Lab2-Homework%20%28Kaggle%29%20-%20LTSM.ipynb#X43sZmlsZQ%3D%3D?line=12'>13</a>\u001b[0m )\n",
      "File \u001b[1;32mc:\\Users\\User\\anaconda3\\lib\\site-packages\\keras\\utils\\traceback_utils.py:65\u001b[0m, in \u001b[0;36mfilter_traceback.<locals>.error_handler\u001b[1;34m(*args, **kwargs)\u001b[0m\n\u001b[0;32m     63\u001b[0m filtered_tb \u001b[39m=\u001b[39m \u001b[39mNone\u001b[39;00m\n\u001b[0;32m     64\u001b[0m \u001b[39mtry\u001b[39;00m:\n\u001b[1;32m---> 65\u001b[0m     \u001b[39mreturn\u001b[39;00m fn(\u001b[39m*\u001b[39margs, \u001b[39m*\u001b[39m\u001b[39m*\u001b[39mkwargs)\n\u001b[0;32m     66\u001b[0m \u001b[39mexcept\u001b[39;00m \u001b[39mException\u001b[39;00m \u001b[39mas\u001b[39;00m e:\n\u001b[0;32m     67\u001b[0m     filtered_tb \u001b[39m=\u001b[39m _process_traceback_frames(e\u001b[39m.\u001b[39m__traceback__)\n",
      "File \u001b[1;32mc:\\Users\\User\\anaconda3\\lib\\site-packages\\keras\\engine\\training.py:1564\u001b[0m, in \u001b[0;36mModel.fit\u001b[1;34m(self, x, y, batch_size, epochs, verbose, callbacks, validation_split, validation_data, shuffle, class_weight, sample_weight, initial_epoch, steps_per_epoch, validation_steps, validation_batch_size, validation_freq, max_queue_size, workers, use_multiprocessing)\u001b[0m\n\u001b[0;32m   1556\u001b[0m \u001b[39mwith\u001b[39;00m tf\u001b[39m.\u001b[39mprofiler\u001b[39m.\u001b[39mexperimental\u001b[39m.\u001b[39mTrace(\n\u001b[0;32m   1557\u001b[0m     \u001b[39m\"\u001b[39m\u001b[39mtrain\u001b[39m\u001b[39m\"\u001b[39m,\n\u001b[0;32m   1558\u001b[0m     epoch_num\u001b[39m=\u001b[39mepoch,\n\u001b[1;32m   (...)\u001b[0m\n\u001b[0;32m   1561\u001b[0m     _r\u001b[39m=\u001b[39m\u001b[39m1\u001b[39m,\n\u001b[0;32m   1562\u001b[0m ):\n\u001b[0;32m   1563\u001b[0m     callbacks\u001b[39m.\u001b[39mon_train_batch_begin(step)\n\u001b[1;32m-> 1564\u001b[0m     tmp_logs \u001b[39m=\u001b[39m \u001b[39mself\u001b[39;49m\u001b[39m.\u001b[39;49mtrain_function(iterator)\n\u001b[0;32m   1565\u001b[0m     \u001b[39mif\u001b[39;00m data_handler\u001b[39m.\u001b[39mshould_sync:\n\u001b[0;32m   1566\u001b[0m         context\u001b[39m.\u001b[39masync_wait()\n",
      "File \u001b[1;32mc:\\Users\\User\\anaconda3\\lib\\site-packages\\tensorflow\\python\\util\\traceback_utils.py:150\u001b[0m, in \u001b[0;36mfilter_traceback.<locals>.error_handler\u001b[1;34m(*args, **kwargs)\u001b[0m\n\u001b[0;32m    148\u001b[0m filtered_tb \u001b[39m=\u001b[39m \u001b[39mNone\u001b[39;00m\n\u001b[0;32m    149\u001b[0m \u001b[39mtry\u001b[39;00m:\n\u001b[1;32m--> 150\u001b[0m   \u001b[39mreturn\u001b[39;00m fn(\u001b[39m*\u001b[39margs, \u001b[39m*\u001b[39m\u001b[39m*\u001b[39mkwargs)\n\u001b[0;32m    151\u001b[0m \u001b[39mexcept\u001b[39;00m \u001b[39mException\u001b[39;00m \u001b[39mas\u001b[39;00m e:\n\u001b[0;32m    152\u001b[0m   filtered_tb \u001b[39m=\u001b[39m _process_traceback_frames(e\u001b[39m.\u001b[39m__traceback__)\n",
      "File \u001b[1;32mc:\\Users\\User\\anaconda3\\lib\\site-packages\\tensorflow\\python\\eager\\def_function.py:915\u001b[0m, in \u001b[0;36mFunction.__call__\u001b[1;34m(self, *args, **kwds)\u001b[0m\n\u001b[0;32m    912\u001b[0m compiler \u001b[39m=\u001b[39m \u001b[39m\"\u001b[39m\u001b[39mxla\u001b[39m\u001b[39m\"\u001b[39m \u001b[39mif\u001b[39;00m \u001b[39mself\u001b[39m\u001b[39m.\u001b[39m_jit_compile \u001b[39melse\u001b[39;00m \u001b[39m\"\u001b[39m\u001b[39mnonXla\u001b[39m\u001b[39m\"\u001b[39m\n\u001b[0;32m    914\u001b[0m \u001b[39mwith\u001b[39;00m OptionalXlaContext(\u001b[39mself\u001b[39m\u001b[39m.\u001b[39m_jit_compile):\n\u001b[1;32m--> 915\u001b[0m   result \u001b[39m=\u001b[39m \u001b[39mself\u001b[39m\u001b[39m.\u001b[39m_call(\u001b[39m*\u001b[39margs, \u001b[39m*\u001b[39m\u001b[39m*\u001b[39mkwds)\n\u001b[0;32m    917\u001b[0m new_tracing_count \u001b[39m=\u001b[39m \u001b[39mself\u001b[39m\u001b[39m.\u001b[39mexperimental_get_tracing_count()\n\u001b[0;32m    918\u001b[0m without_tracing \u001b[39m=\u001b[39m (tracing_count \u001b[39m==\u001b[39m new_tracing_count)\n",
      "File \u001b[1;32mc:\\Users\\User\\anaconda3\\lib\\site-packages\\tensorflow\\python\\eager\\def_function.py:947\u001b[0m, in \u001b[0;36mFunction._call\u001b[1;34m(self, *args, **kwds)\u001b[0m\n\u001b[0;32m    944\u001b[0m   \u001b[39mself\u001b[39m\u001b[39m.\u001b[39m_lock\u001b[39m.\u001b[39mrelease()\n\u001b[0;32m    945\u001b[0m   \u001b[39m# In this case we have created variables on the first call, so we run the\u001b[39;00m\n\u001b[0;32m    946\u001b[0m   \u001b[39m# defunned version which is guaranteed to never create variables.\u001b[39;00m\n\u001b[1;32m--> 947\u001b[0m   \u001b[39mreturn\u001b[39;00m \u001b[39mself\u001b[39m\u001b[39m.\u001b[39m_stateless_fn(\u001b[39m*\u001b[39margs, \u001b[39m*\u001b[39m\u001b[39m*\u001b[39mkwds)  \u001b[39m# pylint: disable=not-callable\u001b[39;00m\n\u001b[0;32m    948\u001b[0m \u001b[39melif\u001b[39;00m \u001b[39mself\u001b[39m\u001b[39m.\u001b[39m_stateful_fn \u001b[39mis\u001b[39;00m \u001b[39mnot\u001b[39;00m \u001b[39mNone\u001b[39;00m:\n\u001b[0;32m    949\u001b[0m   \u001b[39m# Release the lock early so that multiple threads can perform the call\u001b[39;00m\n\u001b[0;32m    950\u001b[0m   \u001b[39m# in parallel.\u001b[39;00m\n\u001b[0;32m    951\u001b[0m   \u001b[39mself\u001b[39m\u001b[39m.\u001b[39m_lock\u001b[39m.\u001b[39mrelease()\n",
      "File \u001b[1;32mc:\\Users\\User\\anaconda3\\lib\\site-packages\\tensorflow\\python\\eager\\function.py:2496\u001b[0m, in \u001b[0;36mFunction.__call__\u001b[1;34m(self, *args, **kwargs)\u001b[0m\n\u001b[0;32m   2493\u001b[0m \u001b[39mwith\u001b[39;00m \u001b[39mself\u001b[39m\u001b[39m.\u001b[39m_lock:\n\u001b[0;32m   2494\u001b[0m   (graph_function,\n\u001b[0;32m   2495\u001b[0m    filtered_flat_args) \u001b[39m=\u001b[39m \u001b[39mself\u001b[39m\u001b[39m.\u001b[39m_maybe_define_function(args, kwargs)\n\u001b[1;32m-> 2496\u001b[0m \u001b[39mreturn\u001b[39;00m graph_function\u001b[39m.\u001b[39;49m_call_flat(\n\u001b[0;32m   2497\u001b[0m     filtered_flat_args, captured_inputs\u001b[39m=\u001b[39;49mgraph_function\u001b[39m.\u001b[39;49mcaptured_inputs)\n",
      "File \u001b[1;32mc:\\Users\\User\\anaconda3\\lib\\site-packages\\tensorflow\\python\\eager\\function.py:1862\u001b[0m, in \u001b[0;36mConcreteFunction._call_flat\u001b[1;34m(self, args, captured_inputs, cancellation_manager)\u001b[0m\n\u001b[0;32m   1858\u001b[0m possible_gradient_type \u001b[39m=\u001b[39m gradients_util\u001b[39m.\u001b[39mPossibleTapeGradientTypes(args)\n\u001b[0;32m   1859\u001b[0m \u001b[39mif\u001b[39;00m (possible_gradient_type \u001b[39m==\u001b[39m gradients_util\u001b[39m.\u001b[39mPOSSIBLE_GRADIENT_TYPES_NONE\n\u001b[0;32m   1860\u001b[0m     \u001b[39mand\u001b[39;00m executing_eagerly):\n\u001b[0;32m   1861\u001b[0m   \u001b[39m# No tape is watching; skip to running the function.\u001b[39;00m\n\u001b[1;32m-> 1862\u001b[0m   \u001b[39mreturn\u001b[39;00m \u001b[39mself\u001b[39m\u001b[39m.\u001b[39m_build_call_outputs(\u001b[39mself\u001b[39;49m\u001b[39m.\u001b[39;49m_inference_function\u001b[39m.\u001b[39;49mcall(\n\u001b[0;32m   1863\u001b[0m       ctx, args, cancellation_manager\u001b[39m=\u001b[39;49mcancellation_manager))\n\u001b[0;32m   1864\u001b[0m forward_backward \u001b[39m=\u001b[39m \u001b[39mself\u001b[39m\u001b[39m.\u001b[39m_select_forward_and_backward_functions(\n\u001b[0;32m   1865\u001b[0m     args,\n\u001b[0;32m   1866\u001b[0m     possible_gradient_type,\n\u001b[0;32m   1867\u001b[0m     executing_eagerly)\n\u001b[0;32m   1868\u001b[0m forward_function, args_with_tangents \u001b[39m=\u001b[39m forward_backward\u001b[39m.\u001b[39mforward()\n",
      "File \u001b[1;32mc:\\Users\\User\\anaconda3\\lib\\site-packages\\tensorflow\\python\\eager\\function.py:499\u001b[0m, in \u001b[0;36m_EagerDefinedFunction.call\u001b[1;34m(self, ctx, args, cancellation_manager)\u001b[0m\n\u001b[0;32m    497\u001b[0m \u001b[39mwith\u001b[39;00m _InterpolateFunctionError(\u001b[39mself\u001b[39m):\n\u001b[0;32m    498\u001b[0m   \u001b[39mif\u001b[39;00m cancellation_manager \u001b[39mis\u001b[39;00m \u001b[39mNone\u001b[39;00m:\n\u001b[1;32m--> 499\u001b[0m     outputs \u001b[39m=\u001b[39m execute\u001b[39m.\u001b[39;49mexecute(\n\u001b[0;32m    500\u001b[0m         \u001b[39mstr\u001b[39;49m(\u001b[39mself\u001b[39;49m\u001b[39m.\u001b[39;49msignature\u001b[39m.\u001b[39;49mname),\n\u001b[0;32m    501\u001b[0m         num_outputs\u001b[39m=\u001b[39;49m\u001b[39mself\u001b[39;49m\u001b[39m.\u001b[39;49m_num_outputs,\n\u001b[0;32m    502\u001b[0m         inputs\u001b[39m=\u001b[39;49margs,\n\u001b[0;32m    503\u001b[0m         attrs\u001b[39m=\u001b[39;49mattrs,\n\u001b[0;32m    504\u001b[0m         ctx\u001b[39m=\u001b[39;49mctx)\n\u001b[0;32m    505\u001b[0m   \u001b[39melse\u001b[39;00m:\n\u001b[0;32m    506\u001b[0m     outputs \u001b[39m=\u001b[39m execute\u001b[39m.\u001b[39mexecute_with_cancellation(\n\u001b[0;32m    507\u001b[0m         \u001b[39mstr\u001b[39m(\u001b[39mself\u001b[39m\u001b[39m.\u001b[39msignature\u001b[39m.\u001b[39mname),\n\u001b[0;32m    508\u001b[0m         num_outputs\u001b[39m=\u001b[39m\u001b[39mself\u001b[39m\u001b[39m.\u001b[39m_num_outputs,\n\u001b[1;32m   (...)\u001b[0m\n\u001b[0;32m    511\u001b[0m         ctx\u001b[39m=\u001b[39mctx,\n\u001b[0;32m    512\u001b[0m         cancellation_manager\u001b[39m=\u001b[39mcancellation_manager)\n",
      "File \u001b[1;32mc:\\Users\\User\\anaconda3\\lib\\site-packages\\tensorflow\\python\\eager\\execute.py:54\u001b[0m, in \u001b[0;36mquick_execute\u001b[1;34m(op_name, num_outputs, inputs, attrs, ctx, name)\u001b[0m\n\u001b[0;32m     52\u001b[0m \u001b[39mtry\u001b[39;00m:\n\u001b[0;32m     53\u001b[0m   ctx\u001b[39m.\u001b[39mensure_initialized()\n\u001b[1;32m---> 54\u001b[0m   tensors \u001b[39m=\u001b[39m pywrap_tfe\u001b[39m.\u001b[39;49mTFE_Py_Execute(ctx\u001b[39m.\u001b[39;49m_handle, device_name, op_name,\n\u001b[0;32m     55\u001b[0m                                       inputs, attrs, num_outputs)\n\u001b[0;32m     56\u001b[0m \u001b[39mexcept\u001b[39;00m core\u001b[39m.\u001b[39m_NotOkStatusException \u001b[39mas\u001b[39;00m e:\n\u001b[0;32m     57\u001b[0m   \u001b[39mif\u001b[39;00m name \u001b[39mis\u001b[39;00m \u001b[39mnot\u001b[39;00m \u001b[39mNone\u001b[39;00m:\n",
      "\u001b[1;31mKeyboardInterrupt\u001b[0m: "
     ]
    }
   ],
   "source": [
    "# for i in range(5):\n",
    "\n",
    "h = LSTM_model.fit(\n",
    "    X_train, y_train_lstm,\n",
    "    validation_data=(X_test, y_test_lstm),\n",
    "    epochs=5,\n",
    "    batch_size=10000,\n",
    "    # class_weight=CLASS_WEIGHT,\n",
    "    callbacks=[\n",
    "        tf.keras.callbacks.EarlyStopping(\n",
    "            monitor='val_accuracy', patience=2)\n",
    "    ]\n",
    ")\n"
   ]
  },
  {
   "cell_type": "code",
   "execution_count": 35,
   "metadata": {},
   "outputs": [
    {
     "name": "stderr",
     "output_type": "stream",
     "text": [
      "Truncation was not explicitly activated but `max_length` is provided a specific value, please use `truncation=True` to explicitly truncate examples to max length. Defaulting to 'longest_first' truncation strategy. If you encode pairs of sequences (GLUE-style) with the tokenizer you can select this strategy more precisely by providing a specific strategy to `truncation`.\n",
      "c:\\Users\\User\\anaconda3\\lib\\site-packages\\transformers\\tokenization_utils_base.py:2304: FutureWarning: The `pad_to_max_length` argument is deprecated and will be removed in a future version, use `padding=True` or `padding='longest'` to pad to the longest sequence in the batch, or use `padding='max_length'` to pad to a max length. In this case, you can give a specific length with `max_length` (e.g. `max_length=45`) or leave max_length to None to pad to the maximal input size of the model (e.g. 512 for Bert).\n",
      "  warnings.warn(\n"
     ]
    }
   ],
   "source": [
    "AUTO = tf.data.experimental.AUTOTUNE\n",
    "MODEL = 'albert-base-v2'\n",
    "from transformers import AutoTokenizer\n",
    "\n",
    "def regular_encode(texts, tokenizer, maxlen=512):\n",
    "    enc_di = tokenizer.batch_encode_plus(\n",
    "        texts, \n",
    "        #return_attention_masks=False, \n",
    "        return_token_type_ids=False,\n",
    "        pad_to_max_length=True,\n",
    "        max_length=maxlen\n",
    "    )\n",
    "\n",
    "max_len =  50\n",
    "\n",
    "tokenizer = AutoTokenizer.from_pretrained(MODEL)\n",
    "X_train_t = regular_encode(list(train_df[\"text\"]), tokenizer, maxlen=max_len)\n",
    "X_test_t = regular_encode(X_test, tokenizer, maxlen=max_len)"
   ]
  },
  {
   "cell_type": "code",
   "execution_count": 17,
   "metadata": {},
   "outputs": [
    {
     "name": "stdout",
     "output_type": "stream",
     "text": [
      "12875/12875 [==============================] - 626s 49ms/step\n",
      "12875/12875 [==============================] - 589s 46ms/step\n"
     ]
    }
   ],
   "source": [
    "my_LSTM_Submission = pd.DataFrame()\n",
    "\n",
    "import numpy as np\n",
    "\n",
    "X_LSTM_test = get_sequences(tokenizer, Submission['text'])\n",
    "y_LSTM_pred = np.argmax(LSTM_model.predict(X_LSTM_test), axis=1)\n",
    "\n",
    "ids_to_names = lambda labels: pd.Series([index_to_classes.get(x) for x in labels])\n",
    "\n",
    "y_LSTM_result = ids_to_names(y_LSTM_pred)\n",
    "my_LSTM_Submission[\"id\"] = Submission['tweet_id']\n",
    "my_LSTM_Submission = my_LSTM_Submission.reset_index(drop =True)\n",
    "my_LSTM_Submission[\"emotion\"] = y_LSTM_result\n",
    "my_LSTM_Submission.to_csv(\"my_LSTM_Submission.csv\", index=False)"
   ]
  },
  {
   "cell_type": "code",
   "execution_count": null,
   "metadata": {},
   "outputs": [],
   "source": []
  }
 ],
 "metadata": {
  "colab": {
   "collapsed_sections": [
    "4e5eiVLOYTp5"
   ],
   "provenance": []
  },
  "kernelspec": {
   "display_name": "Python 3 (ipykernel)",
   "language": "python",
   "name": "python3"
  },
  "language_info": {
   "codemirror_mode": {
    "name": "ipython",
    "version": 3
   },
   "file_extension": ".py",
   "mimetype": "text/x-python",
   "name": "python",
   "nbconvert_exporter": "python",
   "pygments_lexer": "ipython3",
   "version": "3.9.12"
  },
  "varInspector": {
   "cols": {
    "lenName": 16,
    "lenType": 16,
    "lenVar": 40
   },
   "kernels_config": {
    "python": {
     "delete_cmd_postfix": "",
     "delete_cmd_prefix": "del ",
     "library": "var_list.py",
     "varRefreshCmd": "print(var_dic_list())"
    },
    "r": {
     "delete_cmd_postfix": ") ",
     "delete_cmd_prefix": "rm(",
     "library": "var_list.r",
     "varRefreshCmd": "cat(var_dic_list()) "
    }
   },
   "oldHeight": 594.85,
   "position": {
    "height": "40px",
    "left": "723px",
    "right": "20px",
    "top": "80px",
    "width": "250px"
   },
   "types_to_exclude": [
    "module",
    "function",
    "builtin_function_or_method",
    "instance",
    "_Feature"
   ],
   "varInspector_section_display": "none",
   "window_display": true
  },
  "vscode": {
   "interpreter": {
    "hash": "f08154012ddadd8e950e6e9e035c7a7b32c136e7647e9b7c77e02eb723a8bedb"
   }
  }
 },
 "nbformat": 4,
 "nbformat_minor": 1
}
